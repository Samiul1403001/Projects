{
 "cells": [
  {
   "cell_type": "code",
   "execution_count": 2,
   "metadata": {},
   "outputs": [
    {
     "output_type": "stream",
     "name": "stderr",
     "text": "INFO:plaidml:Opening device \"opencl_amd_hainan.0\"\n_________________________________________________________________\nLayer (type)                 Output Shape              Param #   \n=================================================================\nconv2d_1 (Conv2D)            (None, 298, 298, 16)      448       \n_________________________________________________________________\nmax_pooling2d_1 (MaxPooling2 (None, 149, 149, 16)      0         \n_________________________________________________________________\nconv2d_2 (Conv2D)            (None, 147, 147, 32)      4640      \n_________________________________________________________________\nmax_pooling2d_2 (MaxPooling2 (None, 73, 73, 32)        0         \n_________________________________________________________________\nconv2d_3 (Conv2D)            (None, 71, 71, 64)        18496     \n_________________________________________________________________\nmax_pooling2d_3 (MaxPooling2 (None, 35, 35, 64)        0         \n_________________________________________________________________\nflatten_1 (Flatten)          (None, 78400)             0         \n_________________________________________________________________\ndense_1 (Dense)              (None, 784)               61466384  \n_________________________________________________________________\ndense_2 (Dense)              (None, 1)                 785       \n=================================================================\nTotal params: 61,490,753\nTrainable params: 61,490,753\nNon-trainable params: 0\n_________________________________________________________________\n"
    }
   ],
   "source": [
    "# Model design\n",
    "\n",
    "import plaidml.keras\n",
    "plaidml.keras.install_backend()\n",
    "import keras\n",
    "\n",
    "model = keras.models.Sequential([\n",
    "\n",
    "    keras.layers.Conv2D(16, (3,3), activation='relu', input_shape=(300, 300, 3)),\n",
    "    keras.layers.MaxPooling2D(2, 2),\n",
    "    keras.layers.Conv2D(32, (3,3), activation='relu'),\n",
    "    keras.layers.MaxPooling2D(2,2),\n",
    "    keras.layers.Conv2D(64, (3,3), activation='relu'),\n",
    "    keras.layers.MaxPooling2D(2,2),\n",
    "\n",
    "    keras.layers.Flatten(),\n",
    "    keras.layers.Dense(78400//100, activation='relu'),\n",
    "    keras.layers.Dense(1, activation='sigmoid')\n",
    "])\n",
    "\n",
    "model.summary()"
   ]
  },
  {
   "cell_type": "code",
   "execution_count": 3,
   "metadata": {},
   "outputs": [],
   "source": [
    "# Compiling model\n",
    "\n",
    "model.compile(loss='binary_crossentropy',\n",
    "              optimizer='adam',\n",
    "              metrics=['accuracy'])\n",
    ""
   ]
  },
  {
   "cell_type": "code",
   "execution_count": 4,
   "metadata": {},
   "outputs": [
    {
     "output_type": "stream",
     "name": "stdout",
     "text": "Found 12500 images belonging to 2 classes.\n"
    }
   ],
   "source": [
    "# Loading data\n",
    "\n",
    "from tensorflow.keras.preprocessing.image import ImageDataGenerator\n",
    "\n",
    "train_datagen = ImageDataGenerator(rescale=1/255)\n",
    "\n",
    "train_generator = train_datagen.flow_from_directory(\n",
    "        'D:/Research_&_Projects/Datasets/kagglecatsanddogs_3367a/PetImages/Traning_data/',\n",
    "        target_size=(300, 300),\n",
    "        batch_size=10,\n",
    "        class_mode='binary')"
   ]
  },
  {
   "cell_type": "code",
   "execution_count": 8,
   "metadata": {},
   "outputs": [
    {
     "output_type": "stream",
     "name": "stdout",
     "text": "Epoch 1/10\n10/10 [==============================] - 8s 796ms/step - loss: 0.6896 - acc: 0.5900\nEpoch 2/10\n10/10 [==============================] - 7s 699ms/step - loss: 0.6912 - acc: 0.4900\nEpoch 3/10\n10/10 [==============================] - 7s 733ms/step - loss: 0.6840 - acc: 0.5500\nEpoch 4/10\n10/10 [==============================] - 7s 705ms/step - loss: 0.6993 - acc: 0.5700\nEpoch 5/10\n10/10 [==============================] - 7s 710ms/step - loss: 0.6674 - acc: 0.6100\nEpoch 6/10\n10/10 [==============================] - 7s 702ms/step - loss: 0.6716 - acc: 0.4700\nEpoch 7/10\n10/10 [==============================] - 7s 693ms/step - loss: 0.6760 - acc: 0.5900\nEpoch 8/10\n10/10 [==============================] - 7s 698ms/step - loss: 0.6616 - acc: 0.5600\nEpoch 9/10\n10/10 [==============================] - 7s 728ms/step - loss: 0.6511 - acc: 0.6000\nEpoch 10/10\n10/10 [==============================] - 7s 700ms/step - loss: 0.6371 - acc: 0.6300\n"
    }
   ],
   "source": [
    "# Training session\n",
    "\n",
    "history = model.fit_generator(\n",
    "      train_generator,\n",
    "      steps_per_epoch=10,  \n",
    "      epochs=10,\n",
    "      verbose=1)"
   ]
  },
  {
   "cell_type": "code",
   "execution_count": 9,
   "metadata": {},
   "outputs": [
    {
     "output_type": "stream",
     "name": "stdout",
     "text": "[1.]\nIt is a Dog\n"
    }
   ],
   "source": [
    "# Examine\n",
    "\n",
    "import numpy as np, cv2\n",
    "from keras.preprocessing import image\n",
    "\n",
    "imagepath = 'D:/Research_&_Projects/Datasets/kagglecatsanddogs_3367a/PetImages/Testing_data/Cat/7800.jpg'\n",
    "img = cv2.imread(imagepath)\n",
    "size = (300, 300)\n",
    "img = cv2.resize(img, size)\n",
    "\n",
    "x = image.img_to_array(img)\n",
    "x = np.expand_dims(x, axis=0)\n",
    "\n",
    "images = np.vstack([x])\n",
    "classes = model.predict(images, batch_size=10)\n",
    "print(classes[0])\n",
    "if classes[0]>0.5:\n",
    "    print(\"It is a Dog\")\n",
    "else:\n",
    "    print(\"It is a Cat\")"
   ]
  },
  {
   "cell_type": "code",
   "execution_count": null,
   "metadata": {},
   "outputs": [],
   "source": []
  }
 ],
 "metadata": {
  "file_extension": ".py",
  "kernelspec": {
   "display_name": "Python 3",
   "language": "python",
   "name": "python3"
  },
  "language_info": {
   "codemirror_mode": {
    "name": "ipython",
    "version": 3
   },
   "file_extension": ".py",
   "mimetype": "text/x-python",
   "name": "python",
   "nbconvert_exporter": "python",
   "pygments_lexer": "ipython3",
   "version": "3.8.2-final"
  },
  "mimetype": "text/x-python",
  "name": "python",
  "npconvert_exporter": "python",
  "pygments_lexer": "ipython3",
  "version": 3
 },
 "nbformat": 4,
 "nbformat_minor": 2
}